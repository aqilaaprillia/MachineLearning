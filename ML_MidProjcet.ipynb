{
  "cells": [
    {
      "cell_type": "markdown",
      "metadata": {
        "id": "view-in-github",
        "colab_type": "text"
      },
      "source": [
        "<a href=\"https://colab.research.google.com/github/aqilaaprillia/MachineLearning/blob/main/ML_MidProjcet.ipynb\" target=\"_parent\"><img src=\"https://colab.research.google.com/assets/colab-badge.svg\" alt=\"Open In Colab\"/></a>"
      ]
    },
    {
      "cell_type": "markdown",
      "metadata": {
        "id": "ee8cb6cb-9963-4571-9e48-872725238a1d"
      },
      "source": [
        "## **Kelompok CAR_SALES:**\n",
        "    1. Ariandini Aulia Bachry - H071201054\n",
        "    2. Muhammad Idham Anugerah - H071201060\n",
        "    3. A. Fuad Ahsan Basir - H071201076\n",
        "    4. Nur Aqila Aprilia - H071201088"
      ],
      "id": "ee8cb6cb-9963-4571-9e48-872725238a1d"
    },
    {
      "cell_type": "markdown",
      "metadata": {
        "id": "f77aaeb2-1a54-479b-b9e5-77d1137ffa33"
      },
      "source": [
        "# Pre-Processing"
      ],
      "id": "f77aaeb2-1a54-479b-b9e5-77d1137ffa33"
    },
    {
      "cell_type": "markdown",
      "metadata": {
        "id": "3prY4E36KzjA"
      },
      "source": [
        "**Import Library**\n",
        "\n",
        "Penggunaan library pada Python memberikan kemudahan dalam proses data understanding"
      ],
      "id": "3prY4E36KzjA"
    },
    {
      "cell_type": "code",
      "execution_count": null,
      "metadata": {
        "id": "2ef66858-16d5-4941-82fc-4d3dee7fda0a"
      },
      "outputs": [],
      "source": [
        "import pandas as pd\n",
        "import numpy as np\n",
        "import matplotlib.pyplot as plt\n",
        "import seaborn as sns\n",
        "sns.set()"
      ],
      "id": "2ef66858-16d5-4941-82fc-4d3dee7fda0a"
    },
    {
      "cell_type": "markdown",
      "metadata": {
        "id": "pRnlbYpVLAFT"
      },
      "source": [
        "Memanggil file (load dataset) dengan format .csv untuk dataset mengenai car sales yang sudah di unduh dari Kaggle, dan akan disimpan di dalam dataframe df. Lalu tampilkan 5 baris awal dataset dengan function head"
      ],
      "id": "pRnlbYpVLAFT"
    },
    {
      "cell_type": "code",
      "execution_count": null,
      "metadata": {
        "colab": {
          "base_uri": "https://localhost:8080/",
          "height": 206
        },
        "id": "7d1c4fc7-babb-4f5e-8eec-29588e554108",
        "outputId": "81d619cf-6d05-4ebd-f5ec-20ff71cc3030"
      },
      "outputs": [
        {
          "output_type": "execute_result",
          "data": {
            "text/plain": [
              "           Brand    Price       Body  Mileage  EngineV Engine Type  \\\n",
              "0            BMW   4200.0      sedan      277      2.0      Petrol   \n",
              "1  Mercedes-Benz   7900.0        van      427      2.9      Diesel   \n",
              "2  Mercedes-Benz  13300.0      sedan      358      5.0         Gas   \n",
              "3           Audi  23000.0  crossover      240      4.2      Petrol   \n",
              "4         Toyota  18300.0  crossover      120      2.0      Petrol   \n",
              "\n",
              "  Registration  Year         Model  \n",
              "0          yes  1991           320  \n",
              "1          yes  1999  Sprinter 212  \n",
              "2          yes  2003         S 500  \n",
              "3          yes  2007            Q7  \n",
              "4          yes  2011         Rav 4  "
            ],
            "text/html": [
              "\n",
              "  <div id=\"df-7dc1fd4d-99b4-4fa3-977c-8b117c49fac4\">\n",
              "    <div class=\"colab-df-container\">\n",
              "      <div>\n",
              "<style scoped>\n",
              "    .dataframe tbody tr th:only-of-type {\n",
              "        vertical-align: middle;\n",
              "    }\n",
              "\n",
              "    .dataframe tbody tr th {\n",
              "        vertical-align: top;\n",
              "    }\n",
              "\n",
              "    .dataframe thead th {\n",
              "        text-align: right;\n",
              "    }\n",
              "</style>\n",
              "<table border=\"1\" class=\"dataframe\">\n",
              "  <thead>\n",
              "    <tr style=\"text-align: right;\">\n",
              "      <th></th>\n",
              "      <th>Brand</th>\n",
              "      <th>Price</th>\n",
              "      <th>Body</th>\n",
              "      <th>Mileage</th>\n",
              "      <th>EngineV</th>\n",
              "      <th>Engine Type</th>\n",
              "      <th>Registration</th>\n",
              "      <th>Year</th>\n",
              "      <th>Model</th>\n",
              "    </tr>\n",
              "  </thead>\n",
              "  <tbody>\n",
              "    <tr>\n",
              "      <th>0</th>\n",
              "      <td>BMW</td>\n",
              "      <td>4200.0</td>\n",
              "      <td>sedan</td>\n",
              "      <td>277</td>\n",
              "      <td>2.0</td>\n",
              "      <td>Petrol</td>\n",
              "      <td>yes</td>\n",
              "      <td>1991</td>\n",
              "      <td>320</td>\n",
              "    </tr>\n",
              "    <tr>\n",
              "      <th>1</th>\n",
              "      <td>Mercedes-Benz</td>\n",
              "      <td>7900.0</td>\n",
              "      <td>van</td>\n",
              "      <td>427</td>\n",
              "      <td>2.9</td>\n",
              "      <td>Diesel</td>\n",
              "      <td>yes</td>\n",
              "      <td>1999</td>\n",
              "      <td>Sprinter 212</td>\n",
              "    </tr>\n",
              "    <tr>\n",
              "      <th>2</th>\n",
              "      <td>Mercedes-Benz</td>\n",
              "      <td>13300.0</td>\n",
              "      <td>sedan</td>\n",
              "      <td>358</td>\n",
              "      <td>5.0</td>\n",
              "      <td>Gas</td>\n",
              "      <td>yes</td>\n",
              "      <td>2003</td>\n",
              "      <td>S 500</td>\n",
              "    </tr>\n",
              "    <tr>\n",
              "      <th>3</th>\n",
              "      <td>Audi</td>\n",
              "      <td>23000.0</td>\n",
              "      <td>crossover</td>\n",
              "      <td>240</td>\n",
              "      <td>4.2</td>\n",
              "      <td>Petrol</td>\n",
              "      <td>yes</td>\n",
              "      <td>2007</td>\n",
              "      <td>Q7</td>\n",
              "    </tr>\n",
              "    <tr>\n",
              "      <th>4</th>\n",
              "      <td>Toyota</td>\n",
              "      <td>18300.0</td>\n",
              "      <td>crossover</td>\n",
              "      <td>120</td>\n",
              "      <td>2.0</td>\n",
              "      <td>Petrol</td>\n",
              "      <td>yes</td>\n",
              "      <td>2011</td>\n",
              "      <td>Rav 4</td>\n",
              "    </tr>\n",
              "  </tbody>\n",
              "</table>\n",
              "</div>\n",
              "      <button class=\"colab-df-convert\" onclick=\"convertToInteractive('df-7dc1fd4d-99b4-4fa3-977c-8b117c49fac4')\"\n",
              "              title=\"Convert this dataframe to an interactive table.\"\n",
              "              style=\"display:none;\">\n",
              "        \n",
              "  <svg xmlns=\"http://www.w3.org/2000/svg\" height=\"24px\"viewBox=\"0 0 24 24\"\n",
              "       width=\"24px\">\n",
              "    <path d=\"M0 0h24v24H0V0z\" fill=\"none\"/>\n",
              "    <path d=\"M18.56 5.44l.94 2.06.94-2.06 2.06-.94-2.06-.94-.94-2.06-.94 2.06-2.06.94zm-11 1L8.5 8.5l.94-2.06 2.06-.94-2.06-.94L8.5 2.5l-.94 2.06-2.06.94zm10 10l.94 2.06.94-2.06 2.06-.94-2.06-.94-.94-2.06-.94 2.06-2.06.94z\"/><path d=\"M17.41 7.96l-1.37-1.37c-.4-.4-.92-.59-1.43-.59-.52 0-1.04.2-1.43.59L10.3 9.45l-7.72 7.72c-.78.78-.78 2.05 0 2.83L4 21.41c.39.39.9.59 1.41.59.51 0 1.02-.2 1.41-.59l7.78-7.78 2.81-2.81c.8-.78.8-2.07 0-2.86zM5.41 20L4 18.59l7.72-7.72 1.47 1.35L5.41 20z\"/>\n",
              "  </svg>\n",
              "      </button>\n",
              "      \n",
              "  <style>\n",
              "    .colab-df-container {\n",
              "      display:flex;\n",
              "      flex-wrap:wrap;\n",
              "      gap: 12px;\n",
              "    }\n",
              "\n",
              "    .colab-df-convert {\n",
              "      background-color: #E8F0FE;\n",
              "      border: none;\n",
              "      border-radius: 50%;\n",
              "      cursor: pointer;\n",
              "      display: none;\n",
              "      fill: #1967D2;\n",
              "      height: 32px;\n",
              "      padding: 0 0 0 0;\n",
              "      width: 32px;\n",
              "    }\n",
              "\n",
              "    .colab-df-convert:hover {\n",
              "      background-color: #E2EBFA;\n",
              "      box-shadow: 0px 1px 2px rgba(60, 64, 67, 0.3), 0px 1px 3px 1px rgba(60, 64, 67, 0.15);\n",
              "      fill: #174EA6;\n",
              "    }\n",
              "\n",
              "    [theme=dark] .colab-df-convert {\n",
              "      background-color: #3B4455;\n",
              "      fill: #D2E3FC;\n",
              "    }\n",
              "\n",
              "    [theme=dark] .colab-df-convert:hover {\n",
              "      background-color: #434B5C;\n",
              "      box-shadow: 0px 1px 3px 1px rgba(0, 0, 0, 0.15);\n",
              "      filter: drop-shadow(0px 1px 2px rgba(0, 0, 0, 0.3));\n",
              "      fill: #FFFFFF;\n",
              "    }\n",
              "  </style>\n",
              "\n",
              "      <script>\n",
              "        const buttonEl =\n",
              "          document.querySelector('#df-7dc1fd4d-99b4-4fa3-977c-8b117c49fac4 button.colab-df-convert');\n",
              "        buttonEl.style.display =\n",
              "          google.colab.kernel.accessAllowed ? 'block' : 'none';\n",
              "\n",
              "        async function convertToInteractive(key) {\n",
              "          const element = document.querySelector('#df-7dc1fd4d-99b4-4fa3-977c-8b117c49fac4');\n",
              "          const dataTable =\n",
              "            await google.colab.kernel.invokeFunction('convertToInteractive',\n",
              "                                                     [key], {});\n",
              "          if (!dataTable) return;\n",
              "\n",
              "          const docLinkHtml = 'Like what you see? Visit the ' +\n",
              "            '<a target=\"_blank\" href=https://colab.research.google.com/notebooks/data_table.ipynb>data table notebook</a>'\n",
              "            + ' to learn more about interactive tables.';\n",
              "          element.innerHTML = '';\n",
              "          dataTable['output_type'] = 'display_data';\n",
              "          await google.colab.output.renderOutput(dataTable, element);\n",
              "          const docLink = document.createElement('div');\n",
              "          docLink.innerHTML = docLinkHtml;\n",
              "          element.appendChild(docLink);\n",
              "        }\n",
              "      </script>\n",
              "    </div>\n",
              "  </div>\n",
              "  "
            ]
          },
          "metadata": {},
          "execution_count": 8
        }
      ],
      "source": [
        "df = pd.read_csv(\"car_sales.csv\")#Panggil file  dan simpan dalam dataframe Lalu \n",
        "df.head() #tampilkan 5 baris awal dataset dengan function head()\n",
        "\n",
        "\n",
        "#prediksi harga mobil \n",
        "# feature :data yang tersedia (x variable)\n",
        "# label : yang di prediksi (y variable ) : price"
      ],
      "id": "7d1c4fc7-babb-4f5e-8eec-29588e554108"
    },
    {
      "cell_type": "markdown",
      "metadata": {
        "id": "MtXnSULvLJzF"
      },
      "source": [
        "**Method \"describe\"**\n",
        "\n",
        "secara otomatis melakukan komputasi statistik untuk semua continous variable. Secara default \"describe\" melakukan ignore terhadap variabel bertype objek.\n",
        "\n",
        "Komputasi statistik yang dilakukan terdiri dari: count, mean, std, min, max, 25%, 75%, max."
      ],
      "id": "MtXnSULvLJzF"
    },
    {
      "cell_type": "code",
      "execution_count": null,
      "metadata": {
        "id": "aa1d2e48-8b9d-4405-b591-463d95c862e5",
        "colab": {
          "base_uri": "https://localhost:8080/",
          "height": 394
        },
        "outputId": "11f9a5e6-8ba4-4653-8b3d-bcbb8973dfd2"
      },
      "outputs": [
        {
          "output_type": "execute_result",
          "data": {
            "text/plain": [
              "             Brand          Price   Body      Mileage      EngineV  \\\n",
              "count         4345    4173.000000   4345  4345.000000  4195.000000   \n",
              "unique           7            NaN      6          NaN          NaN   \n",
              "top     Volkswagen            NaN  sedan          NaN          NaN   \n",
              "freq           936            NaN   1649          NaN          NaN   \n",
              "mean           NaN   19418.746935    NaN   161.237284     2.790734   \n",
              "std            NaN   25584.242620    NaN   105.705797     5.066437   \n",
              "min            NaN     600.000000    NaN     0.000000     0.600000   \n",
              "25%            NaN    6999.000000    NaN    86.000000     1.800000   \n",
              "50%            NaN   11500.000000    NaN   155.000000     2.200000   \n",
              "75%            NaN   21700.000000    NaN   230.000000     3.000000   \n",
              "max            NaN  300000.000000    NaN   980.000000    99.990000   \n",
              "\n",
              "       Engine Type Registration         Year    Model  \n",
              "count         4345         4345  4345.000000     4345  \n",
              "unique           4            2          NaN      312  \n",
              "top         Diesel          yes          NaN  E-Class  \n",
              "freq          2019         3947          NaN      199  \n",
              "mean           NaN          NaN  2006.550058      NaN  \n",
              "std            NaN          NaN     6.719097      NaN  \n",
              "min            NaN          NaN  1969.000000      NaN  \n",
              "25%            NaN          NaN  2003.000000      NaN  \n",
              "50%            NaN          NaN  2008.000000      NaN  \n",
              "75%            NaN          NaN  2012.000000      NaN  \n",
              "max            NaN          NaN  2016.000000      NaN  "
            ],
            "text/html": [
              "\n",
              "  <div id=\"df-620235d1-3316-4df8-b967-f302ce1e89df\">\n",
              "    <div class=\"colab-df-container\">\n",
              "      <div>\n",
              "<style scoped>\n",
              "    .dataframe tbody tr th:only-of-type {\n",
              "        vertical-align: middle;\n",
              "    }\n",
              "\n",
              "    .dataframe tbody tr th {\n",
              "        vertical-align: top;\n",
              "    }\n",
              "\n",
              "    .dataframe thead th {\n",
              "        text-align: right;\n",
              "    }\n",
              "</style>\n",
              "<table border=\"1\" class=\"dataframe\">\n",
              "  <thead>\n",
              "    <tr style=\"text-align: right;\">\n",
              "      <th></th>\n",
              "      <th>Brand</th>\n",
              "      <th>Price</th>\n",
              "      <th>Body</th>\n",
              "      <th>Mileage</th>\n",
              "      <th>EngineV</th>\n",
              "      <th>Engine Type</th>\n",
              "      <th>Registration</th>\n",
              "      <th>Year</th>\n",
              "      <th>Model</th>\n",
              "    </tr>\n",
              "  </thead>\n",
              "  <tbody>\n",
              "    <tr>\n",
              "      <th>count</th>\n",
              "      <td>4345</td>\n",
              "      <td>4173.000000</td>\n",
              "      <td>4345</td>\n",
              "      <td>4345.000000</td>\n",
              "      <td>4195.000000</td>\n",
              "      <td>4345</td>\n",
              "      <td>4345</td>\n",
              "      <td>4345.000000</td>\n",
              "      <td>4345</td>\n",
              "    </tr>\n",
              "    <tr>\n",
              "      <th>unique</th>\n",
              "      <td>7</td>\n",
              "      <td>NaN</td>\n",
              "      <td>6</td>\n",
              "      <td>NaN</td>\n",
              "      <td>NaN</td>\n",
              "      <td>4</td>\n",
              "      <td>2</td>\n",
              "      <td>NaN</td>\n",
              "      <td>312</td>\n",
              "    </tr>\n",
              "    <tr>\n",
              "      <th>top</th>\n",
              "      <td>Volkswagen</td>\n",
              "      <td>NaN</td>\n",
              "      <td>sedan</td>\n",
              "      <td>NaN</td>\n",
              "      <td>NaN</td>\n",
              "      <td>Diesel</td>\n",
              "      <td>yes</td>\n",
              "      <td>NaN</td>\n",
              "      <td>E-Class</td>\n",
              "    </tr>\n",
              "    <tr>\n",
              "      <th>freq</th>\n",
              "      <td>936</td>\n",
              "      <td>NaN</td>\n",
              "      <td>1649</td>\n",
              "      <td>NaN</td>\n",
              "      <td>NaN</td>\n",
              "      <td>2019</td>\n",
              "      <td>3947</td>\n",
              "      <td>NaN</td>\n",
              "      <td>199</td>\n",
              "    </tr>\n",
              "    <tr>\n",
              "      <th>mean</th>\n",
              "      <td>NaN</td>\n",
              "      <td>19418.746935</td>\n",
              "      <td>NaN</td>\n",
              "      <td>161.237284</td>\n",
              "      <td>2.790734</td>\n",
              "      <td>NaN</td>\n",
              "      <td>NaN</td>\n",
              "      <td>2006.550058</td>\n",
              "      <td>NaN</td>\n",
              "    </tr>\n",
              "    <tr>\n",
              "      <th>std</th>\n",
              "      <td>NaN</td>\n",
              "      <td>25584.242620</td>\n",
              "      <td>NaN</td>\n",
              "      <td>105.705797</td>\n",
              "      <td>5.066437</td>\n",
              "      <td>NaN</td>\n",
              "      <td>NaN</td>\n",
              "      <td>6.719097</td>\n",
              "      <td>NaN</td>\n",
              "    </tr>\n",
              "    <tr>\n",
              "      <th>min</th>\n",
              "      <td>NaN</td>\n",
              "      <td>600.000000</td>\n",
              "      <td>NaN</td>\n",
              "      <td>0.000000</td>\n",
              "      <td>0.600000</td>\n",
              "      <td>NaN</td>\n",
              "      <td>NaN</td>\n",
              "      <td>1969.000000</td>\n",
              "      <td>NaN</td>\n",
              "    </tr>\n",
              "    <tr>\n",
              "      <th>25%</th>\n",
              "      <td>NaN</td>\n",
              "      <td>6999.000000</td>\n",
              "      <td>NaN</td>\n",
              "      <td>86.000000</td>\n",
              "      <td>1.800000</td>\n",
              "      <td>NaN</td>\n",
              "      <td>NaN</td>\n",
              "      <td>2003.000000</td>\n",
              "      <td>NaN</td>\n",
              "    </tr>\n",
              "    <tr>\n",
              "      <th>50%</th>\n",
              "      <td>NaN</td>\n",
              "      <td>11500.000000</td>\n",
              "      <td>NaN</td>\n",
              "      <td>155.000000</td>\n",
              "      <td>2.200000</td>\n",
              "      <td>NaN</td>\n",
              "      <td>NaN</td>\n",
              "      <td>2008.000000</td>\n",
              "      <td>NaN</td>\n",
              "    </tr>\n",
              "    <tr>\n",
              "      <th>75%</th>\n",
              "      <td>NaN</td>\n",
              "      <td>21700.000000</td>\n",
              "      <td>NaN</td>\n",
              "      <td>230.000000</td>\n",
              "      <td>3.000000</td>\n",
              "      <td>NaN</td>\n",
              "      <td>NaN</td>\n",
              "      <td>2012.000000</td>\n",
              "      <td>NaN</td>\n",
              "    </tr>\n",
              "    <tr>\n",
              "      <th>max</th>\n",
              "      <td>NaN</td>\n",
              "      <td>300000.000000</td>\n",
              "      <td>NaN</td>\n",
              "      <td>980.000000</td>\n",
              "      <td>99.990000</td>\n",
              "      <td>NaN</td>\n",
              "      <td>NaN</td>\n",
              "      <td>2016.000000</td>\n",
              "      <td>NaN</td>\n",
              "    </tr>\n",
              "  </tbody>\n",
              "</table>\n",
              "</div>\n",
              "      <button class=\"colab-df-convert\" onclick=\"convertToInteractive('df-620235d1-3316-4df8-b967-f302ce1e89df')\"\n",
              "              title=\"Convert this dataframe to an interactive table.\"\n",
              "              style=\"display:none;\">\n",
              "        \n",
              "  <svg xmlns=\"http://www.w3.org/2000/svg\" height=\"24px\"viewBox=\"0 0 24 24\"\n",
              "       width=\"24px\">\n",
              "    <path d=\"M0 0h24v24H0V0z\" fill=\"none\"/>\n",
              "    <path d=\"M18.56 5.44l.94 2.06.94-2.06 2.06-.94-2.06-.94-.94-2.06-.94 2.06-2.06.94zm-11 1L8.5 8.5l.94-2.06 2.06-.94-2.06-.94L8.5 2.5l-.94 2.06-2.06.94zm10 10l.94 2.06.94-2.06 2.06-.94-2.06-.94-.94-2.06-.94 2.06-2.06.94z\"/><path d=\"M17.41 7.96l-1.37-1.37c-.4-.4-.92-.59-1.43-.59-.52 0-1.04.2-1.43.59L10.3 9.45l-7.72 7.72c-.78.78-.78 2.05 0 2.83L4 21.41c.39.39.9.59 1.41.59.51 0 1.02-.2 1.41-.59l7.78-7.78 2.81-2.81c.8-.78.8-2.07 0-2.86zM5.41 20L4 18.59l7.72-7.72 1.47 1.35L5.41 20z\"/>\n",
              "  </svg>\n",
              "      </button>\n",
              "      \n",
              "  <style>\n",
              "    .colab-df-container {\n",
              "      display:flex;\n",
              "      flex-wrap:wrap;\n",
              "      gap: 12px;\n",
              "    }\n",
              "\n",
              "    .colab-df-convert {\n",
              "      background-color: #E8F0FE;\n",
              "      border: none;\n",
              "      border-radius: 50%;\n",
              "      cursor: pointer;\n",
              "      display: none;\n",
              "      fill: #1967D2;\n",
              "      height: 32px;\n",
              "      padding: 0 0 0 0;\n",
              "      width: 32px;\n",
              "    }\n",
              "\n",
              "    .colab-df-convert:hover {\n",
              "      background-color: #E2EBFA;\n",
              "      box-shadow: 0px 1px 2px rgba(60, 64, 67, 0.3), 0px 1px 3px 1px rgba(60, 64, 67, 0.15);\n",
              "      fill: #174EA6;\n",
              "    }\n",
              "\n",
              "    [theme=dark] .colab-df-convert {\n",
              "      background-color: #3B4455;\n",
              "      fill: #D2E3FC;\n",
              "    }\n",
              "\n",
              "    [theme=dark] .colab-df-convert:hover {\n",
              "      background-color: #434B5C;\n",
              "      box-shadow: 0px 1px 3px 1px rgba(0, 0, 0, 0.15);\n",
              "      filter: drop-shadow(0px 1px 2px rgba(0, 0, 0, 0.3));\n",
              "      fill: #FFFFFF;\n",
              "    }\n",
              "  </style>\n",
              "\n",
              "      <script>\n",
              "        const buttonEl =\n",
              "          document.querySelector('#df-620235d1-3316-4df8-b967-f302ce1e89df button.colab-df-convert');\n",
              "        buttonEl.style.display =\n",
              "          google.colab.kernel.accessAllowed ? 'block' : 'none';\n",
              "\n",
              "        async function convertToInteractive(key) {\n",
              "          const element = document.querySelector('#df-620235d1-3316-4df8-b967-f302ce1e89df');\n",
              "          const dataTable =\n",
              "            await google.colab.kernel.invokeFunction('convertToInteractive',\n",
              "                                                     [key], {});\n",
              "          if (!dataTable) return;\n",
              "\n",
              "          const docLinkHtml = 'Like what you see? Visit the ' +\n",
              "            '<a target=\"_blank\" href=https://colab.research.google.com/notebooks/data_table.ipynb>data table notebook</a>'\n",
              "            + ' to learn more about interactive tables.';\n",
              "          element.innerHTML = '';\n",
              "          dataTable['output_type'] = 'display_data';\n",
              "          await google.colab.output.renderOutput(dataTable, element);\n",
              "          const docLink = document.createElement('div');\n",
              "          docLink.innerHTML = docLinkHtml;\n",
              "          element.appendChild(docLink);\n",
              "        }\n",
              "      </script>\n",
              "    </div>\n",
              "  </div>\n",
              "  "
            ]
          },
          "metadata": {},
          "execution_count": 9
        }
      ],
      "source": [
        "df.describe(include='all')"
      ],
      "id": "aa1d2e48-8b9d-4405-b591-463d95c862e5"
    },
    {
      "cell_type": "markdown",
      "metadata": {
        "id": "9c3WfETFLeRD"
      },
      "source": [
        "Menampilkan 5 baris awal dataset"
      ],
      "id": "9c3WfETFLeRD"
    },
    {
      "cell_type": "code",
      "execution_count": null,
      "metadata": {
        "id": "nlF09lJkLX0L",
        "colab": {
          "base_uri": "https://localhost:8080/",
          "height": 206
        },
        "outputId": "389d5569-3310-4050-bc04-d4dcc037f7a6"
      },
      "outputs": [
        {
          "output_type": "execute_result",
          "data": {
            "text/plain": [
              "           Brand    Price       Body  Mileage  EngineV Engine Type  \\\n",
              "0            BMW   4200.0      sedan      277      2.0      Petrol   \n",
              "1  Mercedes-Benz   7900.0        van      427      2.9      Diesel   \n",
              "2  Mercedes-Benz  13300.0      sedan      358      5.0         Gas   \n",
              "3           Audi  23000.0  crossover      240      4.2      Petrol   \n",
              "4         Toyota  18300.0  crossover      120      2.0      Petrol   \n",
              "\n",
              "  Registration  Year         Model  \n",
              "0          yes  1991           320  \n",
              "1          yes  1999  Sprinter 212  \n",
              "2          yes  2003         S 500  \n",
              "3          yes  2007            Q7  \n",
              "4          yes  2011         Rav 4  "
            ],
            "text/html": [
              "\n",
              "  <div id=\"df-7b9d4dd4-8d70-4b62-8ef7-cef327d68417\">\n",
              "    <div class=\"colab-df-container\">\n",
              "      <div>\n",
              "<style scoped>\n",
              "    .dataframe tbody tr th:only-of-type {\n",
              "        vertical-align: middle;\n",
              "    }\n",
              "\n",
              "    .dataframe tbody tr th {\n",
              "        vertical-align: top;\n",
              "    }\n",
              "\n",
              "    .dataframe thead th {\n",
              "        text-align: right;\n",
              "    }\n",
              "</style>\n",
              "<table border=\"1\" class=\"dataframe\">\n",
              "  <thead>\n",
              "    <tr style=\"text-align: right;\">\n",
              "      <th></th>\n",
              "      <th>Brand</th>\n",
              "      <th>Price</th>\n",
              "      <th>Body</th>\n",
              "      <th>Mileage</th>\n",
              "      <th>EngineV</th>\n",
              "      <th>Engine Type</th>\n",
              "      <th>Registration</th>\n",
              "      <th>Year</th>\n",
              "      <th>Model</th>\n",
              "    </tr>\n",
              "  </thead>\n",
              "  <tbody>\n",
              "    <tr>\n",
              "      <th>0</th>\n",
              "      <td>BMW</td>\n",
              "      <td>4200.0</td>\n",
              "      <td>sedan</td>\n",
              "      <td>277</td>\n",
              "      <td>2.0</td>\n",
              "      <td>Petrol</td>\n",
              "      <td>yes</td>\n",
              "      <td>1991</td>\n",
              "      <td>320</td>\n",
              "    </tr>\n",
              "    <tr>\n",
              "      <th>1</th>\n",
              "      <td>Mercedes-Benz</td>\n",
              "      <td>7900.0</td>\n",
              "      <td>van</td>\n",
              "      <td>427</td>\n",
              "      <td>2.9</td>\n",
              "      <td>Diesel</td>\n",
              "      <td>yes</td>\n",
              "      <td>1999</td>\n",
              "      <td>Sprinter 212</td>\n",
              "    </tr>\n",
              "    <tr>\n",
              "      <th>2</th>\n",
              "      <td>Mercedes-Benz</td>\n",
              "      <td>13300.0</td>\n",
              "      <td>sedan</td>\n",
              "      <td>358</td>\n",
              "      <td>5.0</td>\n",
              "      <td>Gas</td>\n",
              "      <td>yes</td>\n",
              "      <td>2003</td>\n",
              "      <td>S 500</td>\n",
              "    </tr>\n",
              "    <tr>\n",
              "      <th>3</th>\n",
              "      <td>Audi</td>\n",
              "      <td>23000.0</td>\n",
              "      <td>crossover</td>\n",
              "      <td>240</td>\n",
              "      <td>4.2</td>\n",
              "      <td>Petrol</td>\n",
              "      <td>yes</td>\n",
              "      <td>2007</td>\n",
              "      <td>Q7</td>\n",
              "    </tr>\n",
              "    <tr>\n",
              "      <th>4</th>\n",
              "      <td>Toyota</td>\n",
              "      <td>18300.0</td>\n",
              "      <td>crossover</td>\n",
              "      <td>120</td>\n",
              "      <td>2.0</td>\n",
              "      <td>Petrol</td>\n",
              "      <td>yes</td>\n",
              "      <td>2011</td>\n",
              "      <td>Rav 4</td>\n",
              "    </tr>\n",
              "  </tbody>\n",
              "</table>\n",
              "</div>\n",
              "      <button class=\"colab-df-convert\" onclick=\"convertToInteractive('df-7b9d4dd4-8d70-4b62-8ef7-cef327d68417')\"\n",
              "              title=\"Convert this dataframe to an interactive table.\"\n",
              "              style=\"display:none;\">\n",
              "        \n",
              "  <svg xmlns=\"http://www.w3.org/2000/svg\" height=\"24px\"viewBox=\"0 0 24 24\"\n",
              "       width=\"24px\">\n",
              "    <path d=\"M0 0h24v24H0V0z\" fill=\"none\"/>\n",
              "    <path d=\"M18.56 5.44l.94 2.06.94-2.06 2.06-.94-2.06-.94-.94-2.06-.94 2.06-2.06.94zm-11 1L8.5 8.5l.94-2.06 2.06-.94-2.06-.94L8.5 2.5l-.94 2.06-2.06.94zm10 10l.94 2.06.94-2.06 2.06-.94-2.06-.94-.94-2.06-.94 2.06-2.06.94z\"/><path d=\"M17.41 7.96l-1.37-1.37c-.4-.4-.92-.59-1.43-.59-.52 0-1.04.2-1.43.59L10.3 9.45l-7.72 7.72c-.78.78-.78 2.05 0 2.83L4 21.41c.39.39.9.59 1.41.59.51 0 1.02-.2 1.41-.59l7.78-7.78 2.81-2.81c.8-.78.8-2.07 0-2.86zM5.41 20L4 18.59l7.72-7.72 1.47 1.35L5.41 20z\"/>\n",
              "  </svg>\n",
              "      </button>\n",
              "      \n",
              "  <style>\n",
              "    .colab-df-container {\n",
              "      display:flex;\n",
              "      flex-wrap:wrap;\n",
              "      gap: 12px;\n",
              "    }\n",
              "\n",
              "    .colab-df-convert {\n",
              "      background-color: #E8F0FE;\n",
              "      border: none;\n",
              "      border-radius: 50%;\n",
              "      cursor: pointer;\n",
              "      display: none;\n",
              "      fill: #1967D2;\n",
              "      height: 32px;\n",
              "      padding: 0 0 0 0;\n",
              "      width: 32px;\n",
              "    }\n",
              "\n",
              "    .colab-df-convert:hover {\n",
              "      background-color: #E2EBFA;\n",
              "      box-shadow: 0px 1px 2px rgba(60, 64, 67, 0.3), 0px 1px 3px 1px rgba(60, 64, 67, 0.15);\n",
              "      fill: #174EA6;\n",
              "    }\n",
              "\n",
              "    [theme=dark] .colab-df-convert {\n",
              "      background-color: #3B4455;\n",
              "      fill: #D2E3FC;\n",
              "    }\n",
              "\n",
              "    [theme=dark] .colab-df-convert:hover {\n",
              "      background-color: #434B5C;\n",
              "      box-shadow: 0px 1px 3px 1px rgba(0, 0, 0, 0.15);\n",
              "      filter: drop-shadow(0px 1px 2px rgba(0, 0, 0, 0.3));\n",
              "      fill: #FFFFFF;\n",
              "    }\n",
              "  </style>\n",
              "\n",
              "      <script>\n",
              "        const buttonEl =\n",
              "          document.querySelector('#df-7b9d4dd4-8d70-4b62-8ef7-cef327d68417 button.colab-df-convert');\n",
              "        buttonEl.style.display =\n",
              "          google.colab.kernel.accessAllowed ? 'block' : 'none';\n",
              "\n",
              "        async function convertToInteractive(key) {\n",
              "          const element = document.querySelector('#df-7b9d4dd4-8d70-4b62-8ef7-cef327d68417');\n",
              "          const dataTable =\n",
              "            await google.colab.kernel.invokeFunction('convertToInteractive',\n",
              "                                                     [key], {});\n",
              "          if (!dataTable) return;\n",
              "\n",
              "          const docLinkHtml = 'Like what you see? Visit the ' +\n",
              "            '<a target=\"_blank\" href=https://colab.research.google.com/notebooks/data_table.ipynb>data table notebook</a>'\n",
              "            + ' to learn more about interactive tables.';\n",
              "          element.innerHTML = '';\n",
              "          dataTable['output_type'] = 'display_data';\n",
              "          await google.colab.output.renderOutput(dataTable, element);\n",
              "          const docLink = document.createElement('div');\n",
              "          docLink.innerHTML = docLinkHtml;\n",
              "          element.appendChild(docLink);\n",
              "        }\n",
              "      </script>\n",
              "    </div>\n",
              "  </div>\n",
              "  "
            ]
          },
          "metadata": {},
          "execution_count": 10
        }
      ],
      "source": [
        "df.head() #tampilkan 5 baris awal dataset dengan function head()\n",
        "#kolom Model telah hilang "
      ],
      "id": "nlF09lJkLX0L"
    },
    {
      "cell_type": "markdown",
      "metadata": {
        "id": "MRoAVFdCLdSk"
      },
      "source": [
        "Menampilkan ukuran (jumlah baris, kolom) dari dataset. Dengan menggunakan method function\n"
      ],
      "id": "MRoAVFdCLdSk"
    },
    {
      "cell_type": "code",
      "execution_count": null,
      "metadata": {
        "id": "0492d1b0-2de4-4219-87c3-23c256b17adf",
        "colab": {
          "base_uri": "https://localhost:8080/"
        },
        "outputId": "c9ccbad8-0027-4c55-c7f6-d05d7da89cc8"
      },
      "outputs": [
        {
          "output_type": "execute_result",
          "data": {
            "text/plain": [
              "(4345, 9)"
            ]
          },
          "metadata": {},
          "execution_count": 11
        }
      ],
      "source": [
        "df.shape"
      ],
      "id": "0492d1b0-2de4-4219-87c3-23c256b17adf"
    },
    {
      "cell_type": "markdown",
      "metadata": {
        "id": "abe3c2da-82ed-4d3d-80f8-fcd922936780"
      },
      "source": [
        "## Korelasi Data"
      ],
      "id": "abe3c2da-82ed-4d3d-80f8-fcd922936780"
    },
    {
      "cell_type": "markdown",
      "metadata": {
        "id": "Cd5aOgI8Nv2t"
      },
      "source": [
        "**Korelasi Menyatakan bagaimana fitur terkait satu sama lain**"
      ],
      "id": "Cd5aOgI8Nv2t"
    },
    {
      "cell_type": "markdown",
      "metadata": {
        "id": "o3zqeIQZLqlj"
      },
      "source": [
        "Mengitung korelasi dari dataset. Dengan menggunakan method function"
      ],
      "id": "o3zqeIQZLqlj"
    },
    {
      "cell_type": "code",
      "execution_count": null,
      "metadata": {
        "id": "5cd07981-e56f-45c2-852b-5c88fa5b2aa8",
        "colab": {
          "base_uri": "https://localhost:8080/",
          "height": 175
        },
        "outputId": "88dbb444-c3f6-46e3-b8ff-8049a1e72710"
      },
      "outputs": [
        {
          "output_type": "execute_result",
          "data": {
            "text/plain": [
              "            Price   Mileage   EngineV      Year\n",
              "Price    1.000000 -0.464795  0.058664  0.487031\n",
              "Mileage -0.464795  1.000000  0.020959 -0.668635\n",
              "EngineV  0.058664  0.020959  1.000000 -0.022866\n",
              "Year     0.487031 -0.668635 -0.022866  1.000000"
            ],
            "text/html": [
              "\n",
              "  <div id=\"df-6e2e569f-1f3e-4923-be19-f55a2415d81a\">\n",
              "    <div class=\"colab-df-container\">\n",
              "      <div>\n",
              "<style scoped>\n",
              "    .dataframe tbody tr th:only-of-type {\n",
              "        vertical-align: middle;\n",
              "    }\n",
              "\n",
              "    .dataframe tbody tr th {\n",
              "        vertical-align: top;\n",
              "    }\n",
              "\n",
              "    .dataframe thead th {\n",
              "        text-align: right;\n",
              "    }\n",
              "</style>\n",
              "<table border=\"1\" class=\"dataframe\">\n",
              "  <thead>\n",
              "    <tr style=\"text-align: right;\">\n",
              "      <th></th>\n",
              "      <th>Price</th>\n",
              "      <th>Mileage</th>\n",
              "      <th>EngineV</th>\n",
              "      <th>Year</th>\n",
              "    </tr>\n",
              "  </thead>\n",
              "  <tbody>\n",
              "    <tr>\n",
              "      <th>Price</th>\n",
              "      <td>1.000000</td>\n",
              "      <td>-0.464795</td>\n",
              "      <td>0.058664</td>\n",
              "      <td>0.487031</td>\n",
              "    </tr>\n",
              "    <tr>\n",
              "      <th>Mileage</th>\n",
              "      <td>-0.464795</td>\n",
              "      <td>1.000000</td>\n",
              "      <td>0.020959</td>\n",
              "      <td>-0.668635</td>\n",
              "    </tr>\n",
              "    <tr>\n",
              "      <th>EngineV</th>\n",
              "      <td>0.058664</td>\n",
              "      <td>0.020959</td>\n",
              "      <td>1.000000</td>\n",
              "      <td>-0.022866</td>\n",
              "    </tr>\n",
              "    <tr>\n",
              "      <th>Year</th>\n",
              "      <td>0.487031</td>\n",
              "      <td>-0.668635</td>\n",
              "      <td>-0.022866</td>\n",
              "      <td>1.000000</td>\n",
              "    </tr>\n",
              "  </tbody>\n",
              "</table>\n",
              "</div>\n",
              "      <button class=\"colab-df-convert\" onclick=\"convertToInteractive('df-6e2e569f-1f3e-4923-be19-f55a2415d81a')\"\n",
              "              title=\"Convert this dataframe to an interactive table.\"\n",
              "              style=\"display:none;\">\n",
              "        \n",
              "  <svg xmlns=\"http://www.w3.org/2000/svg\" height=\"24px\"viewBox=\"0 0 24 24\"\n",
              "       width=\"24px\">\n",
              "    <path d=\"M0 0h24v24H0V0z\" fill=\"none\"/>\n",
              "    <path d=\"M18.56 5.44l.94 2.06.94-2.06 2.06-.94-2.06-.94-.94-2.06-.94 2.06-2.06.94zm-11 1L8.5 8.5l.94-2.06 2.06-.94-2.06-.94L8.5 2.5l-.94 2.06-2.06.94zm10 10l.94 2.06.94-2.06 2.06-.94-2.06-.94-.94-2.06-.94 2.06-2.06.94z\"/><path d=\"M17.41 7.96l-1.37-1.37c-.4-.4-.92-.59-1.43-.59-.52 0-1.04.2-1.43.59L10.3 9.45l-7.72 7.72c-.78.78-.78 2.05 0 2.83L4 21.41c.39.39.9.59 1.41.59.51 0 1.02-.2 1.41-.59l7.78-7.78 2.81-2.81c.8-.78.8-2.07 0-2.86zM5.41 20L4 18.59l7.72-7.72 1.47 1.35L5.41 20z\"/>\n",
              "  </svg>\n",
              "      </button>\n",
              "      \n",
              "  <style>\n",
              "    .colab-df-container {\n",
              "      display:flex;\n",
              "      flex-wrap:wrap;\n",
              "      gap: 12px;\n",
              "    }\n",
              "\n",
              "    .colab-df-convert {\n",
              "      background-color: #E8F0FE;\n",
              "      border: none;\n",
              "      border-radius: 50%;\n",
              "      cursor: pointer;\n",
              "      display: none;\n",
              "      fill: #1967D2;\n",
              "      height: 32px;\n",
              "      padding: 0 0 0 0;\n",
              "      width: 32px;\n",
              "    }\n",
              "\n",
              "    .colab-df-convert:hover {\n",
              "      background-color: #E2EBFA;\n",
              "      box-shadow: 0px 1px 2px rgba(60, 64, 67, 0.3), 0px 1px 3px 1px rgba(60, 64, 67, 0.15);\n",
              "      fill: #174EA6;\n",
              "    }\n",
              "\n",
              "    [theme=dark] .colab-df-convert {\n",
              "      background-color: #3B4455;\n",
              "      fill: #D2E3FC;\n",
              "    }\n",
              "\n",
              "    [theme=dark] .colab-df-convert:hover {\n",
              "      background-color: #434B5C;\n",
              "      box-shadow: 0px 1px 3px 1px rgba(0, 0, 0, 0.15);\n",
              "      filter: drop-shadow(0px 1px 2px rgba(0, 0, 0, 0.3));\n",
              "      fill: #FFFFFF;\n",
              "    }\n",
              "  </style>\n",
              "\n",
              "      <script>\n",
              "        const buttonEl =\n",
              "          document.querySelector('#df-6e2e569f-1f3e-4923-be19-f55a2415d81a button.colab-df-convert');\n",
              "        buttonEl.style.display =\n",
              "          google.colab.kernel.accessAllowed ? 'block' : 'none';\n",
              "\n",
              "        async function convertToInteractive(key) {\n",
              "          const element = document.querySelector('#df-6e2e569f-1f3e-4923-be19-f55a2415d81a');\n",
              "          const dataTable =\n",
              "            await google.colab.kernel.invokeFunction('convertToInteractive',\n",
              "                                                     [key], {});\n",
              "          if (!dataTable) return;\n",
              "\n",
              "          const docLinkHtml = 'Like what you see? Visit the ' +\n",
              "            '<a target=\"_blank\" href=https://colab.research.google.com/notebooks/data_table.ipynb>data table notebook</a>'\n",
              "            + ' to learn more about interactive tables.';\n",
              "          element.innerHTML = '';\n",
              "          dataTable['output_type'] = 'display_data';\n",
              "          await google.colab.output.renderOutput(dataTable, element);\n",
              "          const docLink = document.createElement('div');\n",
              "          docLink.innerHTML = docLinkHtml;\n",
              "          element.appendChild(docLink);\n",
              "        }\n",
              "      </script>\n",
              "    </div>\n",
              "  </div>\n",
              "  "
            ]
          },
          "metadata": {},
          "execution_count": 12
        }
      ],
      "source": [
        "df.corr()"
      ],
      "id": "5cd07981-e56f-45c2-852b-5c88fa5b2aa8"
    },
    {
      "cell_type": "markdown",
      "metadata": {
        "id": "480400a3-4f83-4d64-b908-d408e8ba072b"
      },
      "source": [
        "## Menangani Outlier"
      ],
      "id": "480400a3-4f83-4d64-b908-d408e8ba072b"
    },
    {
      "cell_type": "markdown",
      "metadata": {
        "id": "LlxuZlT7NvB3"
      },
      "source": [
        "**Outlier adalah data yang memiliki skor ekstrem, baik ekstrem tinggi maupun ekstrem rendah**\n",
        "\n",
        "\n",
        "adanya outliers dapat membuat distribusi skor cenderung ke kiri atau ke kanan\n",
        "\n",
        "data yang jauh dari gerombolan mau disingkirkan"
      ],
      "id": "LlxuZlT7NvB3"
    },
    {
      "cell_type": "code",
      "execution_count": null,
      "metadata": {
        "id": "4c48316f-a03f-4233-8b54-d10aeae81f8b"
      },
      "outputs": [],
      "source": [
        "df_no_outlier = df.copy()"
      ],
      "id": "4c48316f-a03f-4233-8b54-d10aeae81f8b"
    },
    {
      "cell_type": "code",
      "execution_count": null,
      "metadata": {
        "id": "22b4df90-4f04-46ca-950a-06e51d3c4a10",
        "colab": {
          "base_uri": "https://localhost:8080/"
        },
        "outputId": "b7898845-0a7e-420b-aef0-24a17ceaa2d8"
      },
      "outputs": [
        {
          "output_type": "execute_result",
          "data": {
            "text/plain": [
              "<matplotlib.axes._subplots.AxesSubplot at 0x7f4ba12f48d0>"
            ]
          },
          "metadata": {},
          "execution_count": 14
        },
        {
          "output_type": "display_data",
          "data": {
            "text/plain": [
              "<Figure size 432x288 with 1 Axes>"
            ],
            "image/png": "[encoded data removed]"
          },
          "metadata": {}
        }
      ],
      "source": [
        "sns.boxplot(x=df[\"Price\"])"
      ],
      "id": "22b4df90-4f04-46ca-950a-06e51d3c4a10"
    },
    {
      "cell_type": "code",
      "execution_count": null,
      "metadata": {
        "id": "O1nH0CUpLkxL"
      },
      "outputs": [],
      "source": [
        "df_no_outlier.drop(df_no_outlier[(df_no_outlier['Price']>200000)].index, inplace=True)"
      ],
      "id": "O1nH0CUpLkxL"
    },
    {
      "cell_type": "code",
      "execution_count": null,
      "metadata": {
        "id": "4242d7fb-700c-4ae3-a713-c34ffd0fffcc",
        "colab": {
          "base_uri": "https://localhost:8080/"
        },
        "outputId": "47cdbf3b-4be2-44d7-f4ea-adae53791d2e"
      },
      "outputs": [
        {
          "output_type": "execute_result",
          "data": {
            "text/plain": [
              "<matplotlib.axes._subplots.AxesSubplot at 0x7f4ba11efad0>"
            ]
          },
          "metadata": {},
          "execution_count": 16
        },
        {
          "output_type": "display_data",
          "data": {
            "text/plain": [
              "<Figure size 432x288 with 1 Axes>"
            ],
            "image/png": "[encoded data removed]"
          },
          "metadata": {}
        }
      ],
      "source": [
        "sns.boxplot(x=df[\"Mileage\"])"
      ],
      "id": "4242d7fb-700c-4ae3-a713-c34ffd0fffcc"
    },
    {
      "cell_type": "code",
      "execution_count": null,
      "metadata": {
        "id": "59kV6livNX_K"
      },
      "outputs": [],
      "source": [
        "df_no_outlier.drop(df_no_outlier[(df_no_outlier['Mileage']>600)].index, inplace=True)"
      ],
      "id": "59kV6livNX_K"
    },
    {
      "cell_type": "code",
      "execution_count": null,
      "metadata": {
        "id": "26eda28e-f9ed-4a33-979f-5dda68817586",
        "colab": {
          "base_uri": "https://localhost:8080/"
        },
        "outputId": "13c29a9f-899a-4883-f1e9-08b41a6fe774"
      },
      "outputs": [
        {
          "output_type": "execute_result",
          "data": {
            "text/plain": [
              "<matplotlib.axes._subplots.AxesSubplot at 0x7f4ba0d26790>"
            ]
          },
          "metadata": {},
          "execution_count": 18
        },
        {
          "output_type": "display_data",
          "data": {
            "text/plain": [
              "<Figure size 432x288 with 1 Axes>"
            ],
            "image/png": "[encoded data removed]"
          },
          "metadata": {}
        }
      ],
      "source": [
        "sns.boxplot(x=df[\"Year\"])"
      ],
      "id": "26eda28e-f9ed-4a33-979f-5dda68817586"
    },
    {
      "cell_type": "code",
      "execution_count": null,
      "metadata": {
        "id": "5diivgryNcy1"
      },
      "outputs": [],
      "source": [
        "df_no_outlier.drop(df_no_outlier[(df_no_outlier['Year']<1970)].index, inplace=True)"
      ],
      "id": "5diivgryNcy1"
    },
    {
      "cell_type": "code",
      "execution_count": null,
      "metadata": {
        "id": "a9f1f8e3-1628-482b-a7f3-7d38b88e5f52",
        "colab": {
          "base_uri": "https://localhost:8080/"
        },
        "outputId": "f04e0418-6689-4d18-f95f-d4495b04e331"
      },
      "outputs": [
        {
          "output_type": "execute_result",
          "data": {
            "text/plain": [
              "         Price  Mileage  Year\n",
              "0       4200.0      277  1991\n",
              "1       7900.0      427  1999\n",
              "2      13300.0      358  2003\n",
              "3      23000.0      240  2007\n",
              "4      18300.0      120  2011\n",
              "...        ...      ...   ...\n",
              "4340  125000.0        9  2014\n",
              "4341    6500.0        1  1999\n",
              "4342    8000.0      194  1985\n",
              "4343   14200.0       31  2014\n",
              "4344   13500.0      124  2013\n",
              "\n",
              "[4345 rows x 3 columns]"
            ],
            "text/html": [
              "\n",
              "  <div id=\"df-6a08d24d-dfeb-45f9-8c9d-b0ce13648e21\">\n",
              "    <div class=\"colab-df-container\">\n",
              "      <div>\n",
              "<style scoped>\n",
              "    .dataframe tbody tr th:only-of-type {\n",
              "        vertical-align: middle;\n",
              "    }\n",
              "\n",
              "    .dataframe tbody tr th {\n",
              "        vertical-align: top;\n",
              "    }\n",
              "\n",
              "    .dataframe thead th {\n",
              "        text-align: right;\n",
              "    }\n",
              "</style>\n",
              "<table border=\"1\" class=\"dataframe\">\n",
              "  <thead>\n",
              "    <tr style=\"text-align: right;\">\n",
              "      <th></th>\n",
              "      <th>Price</th>\n",
              "      <th>Mileage</th>\n",
              "      <th>Year</th>\n",
              "    </tr>\n",
              "  </thead>\n",
              "  <tbody>\n",
              "    <tr>\n",
              "      <th>0</th>\n",
              "      <td>4200.0</td>\n",
              "      <td>277</td>\n",
              "      <td>1991</td>\n",
              "    </tr>\n",
              "    <tr>\n",
              "      <th>1</th>\n",
              "      <td>7900.0</td>\n",
              "      <td>427</td>\n",
              "      <td>1999</td>\n",
              "    </tr>\n",
              "    <tr>\n",
              "      <th>2</th>\n",
              "      <td>13300.0</td>\n",
              "      <td>358</td>\n",
              "      <td>2003</td>\n",
              "    </tr>\n",
              "    <tr>\n",
              "      <th>3</th>\n",
              "      <td>23000.0</td>\n",
              "      <td>240</td>\n",
              "      <td>2007</td>\n",
              "    </tr>\n",
              "    <tr>\n",
              "      <th>4</th>\n",
              "      <td>18300.0</td>\n",
              "      <td>120</td>\n",
              "      <td>2011</td>\n",
              "    </tr>\n",
              "    <tr>\n",
              "      <th>...</th>\n",
              "      <td>...</td>\n",
              "      <td>...</td>\n",
              "      <td>...</td>\n",
              "    </tr>\n",
              "    <tr>\n",
              "      <th>4340</th>\n",
              "      <td>125000.0</td>\n",
              "      <td>9</td>\n",
              "      <td>2014</td>\n",
              "    </tr>\n",
              "    <tr>\n",
              "      <th>4341</th>\n",
              "      <td>6500.0</td>\n",
              "      <td>1</td>\n",
              "      <td>1999</td>\n",
              "    </tr>\n",
              "    <tr>\n",
              "      <th>4342</th>\n",
              "      <td>8000.0</td>\n",
              "      <td>194</td>\n",
              "      <td>1985</td>\n",
              "    </tr>\n",
              "    <tr>\n",
              "      <th>4343</th>\n",
              "      <td>14200.0</td>\n",
              "      <td>31</td>\n",
              "      <td>2014</td>\n",
              "    </tr>\n",
              "    <tr>\n",
              "      <th>4344</th>\n",
              "      <td>13500.0</td>\n",
              "      <td>124</td>\n",
              "      <td>2013</td>\n",
              "    </tr>\n",
              "  </tbody>\n",
              "</table>\n",
              "<p>4345 rows × 3 columns</p>\n",
              "</div>\n",
              "      <button class=\"colab-df-convert\" onclick=\"convertToInteractive('df-6a08d24d-dfeb-45f9-8c9d-b0ce13648e21')\"\n",
              "              title=\"Convert this dataframe to an interactive table.\"\n",
              "              style=\"display:none;\">\n",
              "        \n",
              "  <svg xmlns=\"http://www.w3.org/2000/svg\" height=\"24px\"viewBox=\"0 0 24 24\"\n",
              "       width=\"24px\">\n",
              "    <path d=\"M0 0h24v24H0V0z\" fill=\"none\"/>\n",
              "    <path d=\"M18.56 5.44l.94 2.06.94-2.06 2.06-.94-2.06-.94-.94-2.06-.94 2.06-2.06.94zm-11 1L8.5 8.5l.94-2.06 2.06-.94-2.06-.94L8.5 2.5l-.94 2.06-2.06.94zm10 10l.94 2.06.94-2.06 2.06-.94-2.06-.94-.94-2.06-.94 2.06-2.06.94z\"/><path d=\"M17.41 7.96l-1.37-1.37c-.4-.4-.92-.59-1.43-.59-.52 0-1.04.2-1.43.59L10.3 9.45l-7.72 7.72c-.78.78-.78 2.05 0 2.83L4 21.41c.39.39.9.59 1.41.59.51 0 1.02-.2 1.41-.59l7.78-7.78 2.81-2.81c.8-.78.8-2.07 0-2.86zM5.41 20L4 18.59l7.72-7.72 1.47 1.35L5.41 20z\"/>\n",
              "  </svg>\n",
              "      </button>\n",
              "      \n",
              "  <style>\n",
              "    .colab-df-container {\n",
              "      display:flex;\n",
              "      flex-wrap:wrap;\n",
              "      gap: 12px;\n",
              "    }\n",
              "\n",
              "    .colab-df-convert {\n",
              "      background-color: #E8F0FE;\n",
              "      border: none;\n",
              "      border-radius: 50%;\n",
              "      cursor: pointer;\n",
              "      display: none;\n",
              "      fill: #1967D2;\n",
              "      height: 32px;\n",
              "      padding: 0 0 0 0;\n",
              "      width: 32px;\n",
              "    }\n",
              "\n",
              "    .colab-df-convert:hover {\n",
              "      background-color: #E2EBFA;\n",
              "      box-shadow: 0px 1px 2px rgba(60, 64, 67, 0.3), 0px 1px 3px 1px rgba(60, 64, 67, 0.15);\n",
              "      fill: #174EA6;\n",
              "    }\n",
              "\n",
              "    [theme=dark] .colab-df-convert {\n",
              "      background-color: #3B4455;\n",
              "      fill: #D2E3FC;\n",
              "    }\n",
              "\n",
              "    [theme=dark] .colab-df-convert:hover {\n",
              "      background-color: #434B5C;\n",
              "      box-shadow: 0px 1px 3px 1px rgba(0, 0, 0, 0.15);\n",
              "      filter: drop-shadow(0px 1px 2px rgba(0, 0, 0, 0.3));\n",
              "      fill: #FFFFFF;\n",
              "    }\n",
              "  </style>\n",
              "\n",
              "      <script>\n",
              "        const buttonEl =\n",
              "          document.querySelector('#df-6a08d24d-dfeb-45f9-8c9d-b0ce13648e21 button.colab-df-convert');\n",
              "        buttonEl.style.display =\n",
              "          google.colab.kernel.accessAllowed ? 'block' : 'none';\n",
              "\n",
              "        async function convertToInteractive(key) {\n",
              "          const element = document.querySelector('#df-6a08d24d-dfeb-45f9-8c9d-b0ce13648e21');\n",
              "          const dataTable =\n",
              "            await google.colab.kernel.invokeFunction('convertToInteractive',\n",
              "                                                     [key], {});\n",
              "          if (!dataTable) return;\n",
              "\n",
              "          const docLinkHtml = 'Like what you see? Visit the ' +\n",
              "            '<a target=\"_blank\" href=https://colab.research.google.com/notebooks/data_table.ipynb>data table notebook</a>'\n",
              "            + ' to learn more about interactive tables.';\n",
              "          element.innerHTML = '';\n",
              "          dataTable['output_type'] = 'display_data';\n",
              "          await google.colab.output.renderOutput(dataTable, element);\n",
              "          const docLink = document.createElement('div');\n",
              "          docLink.innerHTML = docLinkHtml;\n",
              "          element.appendChild(docLink);\n",
              "        }\n",
              "      </script>\n",
              "    </div>\n",
              "  </div>\n",
              "  "
            ]
          },
          "metadata": {},
          "execution_count": 20
        }
      ],
      "source": [
        "df_outlier = df[[\"Price\", \"Mileage\", \"Year\"]]\n",
        "df_outlier"
      ],
      "id": "a9f1f8e3-1628-482b-a7f3-7d38b88e5f52"
    },
    {
      "cell_type": "code",
      "execution_count": null,
      "metadata": {
        "id": "a5341072-1bbe-4897-828b-c06686739616",
        "colab": {
          "base_uri": "https://localhost:8080/"
        },
        "outputId": "4e5c4c74-b951-4702-cb47-9bfba970d7eb"
      },
      "outputs": [
        {
          "output_type": "execute_result",
          "data": {
            "text/plain": [
              "(4326, 9)"
            ]
          },
          "metadata": {},
          "execution_count": 21
        }
      ],
      "source": [
        "df_no_outlier.shape"
      ],
      "id": "a5341072-1bbe-4897-828b-c06686739616"
    },
    {
      "cell_type": "code",
      "execution_count": null,
      "metadata": {
        "id": "03e0d70c-33d0-40b6-87e6-3f950315f882",
        "colab": {
          "base_uri": "https://localhost:8080/"
        },
        "outputId": "b08beb8f-d9d6-4b8f-9a66-ee45ef616f6d"
      },
      "outputs": [
        {
          "output_type": "execute_result",
          "data": {
            "text/plain": [
              "<matplotlib.axes._subplots.AxesSubplot at 0x7f4ba0cbae50>"
            ]
          },
          "metadata": {},
          "execution_count": 22
        },
        {
          "output_type": "display_data",
          "data": {
            "text/plain": [
              "<Figure size 432x288 with 1 Axes>"
            ],
            "image/png": "[encoded data removed]"
          },
          "metadata": {}
        }
      ],
      "source": [
        "sns.boxplot(x=df_no_outlier[\"Price\"])"
      ],
      "id": "03e0d70c-33d0-40b6-87e6-3f950315f882"
    },
    {
      "cell_type": "code",
      "execution_count": null,
      "metadata": {
        "id": "fe63cb86-4ddb-44de-925c-7bf207a91e01",
        "colab": {
          "base_uri": "https://localhost:8080/"
        },
        "outputId": "831e3b21-0e5f-4b6a-b77d-27c85a078e32"
      },
      "outputs": [
        {
          "output_type": "execute_result",
          "data": {
            "text/plain": [
              "<matplotlib.axes._subplots.AxesSubplot at 0x7f4ba0c45450>"
            ]
          },
          "metadata": {},
          "execution_count": 23
        },
        {
          "output_type": "display_data",
          "data": {
            "text/plain": [
              "<Figure size 432x288 with 1 Axes>"
            ],
            "image/png": "[encoded data removed]"
          },
          "metadata": {}
        }
      ],
      "source": [
        "sns.boxplot(x=df_no_outlier[\"Mileage\"])"
      ],
      "id": "fe63cb86-4ddb-44de-925c-7bf207a91e01"
    },
    {
      "cell_type": "code",
      "execution_count": null,
      "metadata": {
        "id": "1d6f8b05-9808-484c-8b91-6ce3e22bf461",
        "colab": {
          "base_uri": "https://localhost:8080/"
        },
        "outputId": "12814f15-0479-48b9-a220-42459d4b6344"
      },
      "outputs": [
        {
          "output_type": "execute_result",
          "data": {
            "text/plain": [
              "<matplotlib.axes._subplots.AxesSubplot at 0x7f4ba0b9fa90>"
            ]
          },
          "metadata": {},
          "execution_count": 24
        },
        {
          "output_type": "display_data",
          "data": {
            "text/plain": [
              "<Figure size 432x288 with 1 Axes>"
            ],
            "image/png": "[encoded data removed]"
          },
          "metadata": {}
        }
      ],
      "source": [
        "sns.boxplot(x=df_no_outlier[\"Year\"])"
      ],
      "id": "1d6f8b05-9808-484c-8b91-6ce3e22bf461"
    },
    {
      "cell_type": "markdown",
      "metadata": {
        "id": "da6c402d-3ca8-4075-9a7b-cbb491c9a86f"
      },
      "source": [
        "## Menangani Missing Value"
      ],
      "id": "da6c402d-3ca8-4075-9a7b-cbb491c9a86f"
    },
    {
      "cell_type": "code",
      "execution_count": null,
      "metadata": {
        "id": "acd3a0ae-0170-446e-af96-e3330f4c0fd3",
        "colab": {
          "base_uri": "https://localhost:8080/"
        },
        "outputId": "4f69aff0-6767-47e0-fe73-e367129c12c2"
      },
      "outputs": [
        {
          "output_type": "execute_result",
          "data": {
            "text/plain": [
              "Brand             0\n",
              "Price           172\n",
              "Body              0\n",
              "Mileage           0\n",
              "EngineV         147\n",
              "Engine Type       0\n",
              "Registration      0\n",
              "Year              0\n",
              "Model             0\n",
              "dtype: int64"
            ]
          },
          "metadata": {},
          "execution_count": 25
        }
      ],
      "source": [
        "df_no_outlier.isna().sum()"
      ],
      "id": "acd3a0ae-0170-446e-af96-e3330f4c0fd3"
    },
    {
      "cell_type": "code",
      "execution_count": null,
      "metadata": {
        "id": "d7166a7b-7060-469f-9608-6e8083e86947"
      },
      "outputs": [],
      "source": [
        "df_no_mv = df_no_outlier.copy()"
      ],
      "id": "d7166a7b-7060-469f-9608-6e8083e86947"
    },
    {
      "cell_type": "code",
      "execution_count": null,
      "metadata": {
        "id": "d3a86efe-3bcd-4ea4-99aa-644069ccb52a"
      },
      "outputs": [],
      "source": [
        "df_no_mv[\"EngineV\"].fillna(df_no_mv[\"EngineV\"].mean(), inplace=True)"
      ],
      "id": "d3a86efe-3bcd-4ea4-99aa-644069ccb52a"
    },
    {
      "cell_type": "code",
      "execution_count": null,
      "metadata": {
        "id": "mTV1ATbeOBVy"
      },
      "outputs": [],
      "source": [
        "df_no_mv = df_no_mv.dropna()"
      ],
      "id": "mTV1ATbeOBVy"
    },
    {
      "cell_type": "code",
      "execution_count": null,
      "metadata": {
        "id": "968ccc20-e64c-4903-ac87-ed42d2028bf1",
        "colab": {
          "base_uri": "https://localhost:8080/"
        },
        "outputId": "32b13a67-7f92-49a1-9e4d-fc9345fd3141"
      },
      "outputs": [
        {
          "output_type": "execute_result",
          "data": {
            "text/plain": [
              "Brand           0\n",
              "Price           0\n",
              "Body            0\n",
              "Mileage         0\n",
              "EngineV         0\n",
              "Engine Type     0\n",
              "Registration    0\n",
              "Year            0\n",
              "Model           0\n",
              "dtype: int64"
            ]
          },
          "metadata": {},
          "execution_count": 29
        }
      ],
      "source": [
        "df_no_mv.isna().sum()"
      ],
      "id": "968ccc20-e64c-4903-ac87-ed42d2028bf1"
    },
    {
      "cell_type": "code",
      "execution_count": null,
      "metadata": {
        "id": "6214e69f-5723-4c8f-ac44-7e64c762279c",
        "colab": {
          "base_uri": "https://localhost:8080/"
        },
        "outputId": "34382379-30d6-4d46-c76e-006bfec9307d"
      },
      "outputs": [
        {
          "output_type": "execute_result",
          "data": {
            "text/plain": [
              "Brand            object\n",
              "Price           float64\n",
              "Body             object\n",
              "Mileage           int64\n",
              "EngineV         float64\n",
              "Engine Type      object\n",
              "Registration     object\n",
              "Year              int64\n",
              "Model            object\n",
              "dtype: object"
            ]
          },
          "metadata": {},
          "execution_count": 30
        }
      ],
      "source": [
        "df.dtypes"
      ],
      "id": "6214e69f-5723-4c8f-ac44-7e64c762279c"
    },
    {
      "cell_type": "code",
      "execution_count": null,
      "metadata": {
        "id": "0e060cef-fd0a-470d-8416-a68e0148fe93",
        "colab": {
          "base_uri": "https://localhost:8080/"
        },
        "outputId": "57145fee-1df6-42c3-90d6-41c4d15cf62b"
      },
      "outputs": [
        {
          "output_type": "execute_result",
          "data": {
            "text/plain": [
              "           Brand    Price       Body  Mileage  EngineV Engine Type  \\\n",
              "0            BMW   4200.0      sedan      277      2.0      Petrol   \n",
              "1  Mercedes-Benz   7900.0        van      427      2.9      Diesel   \n",
              "2  Mercedes-Benz  13300.0      sedan      358      5.0         Gas   \n",
              "3           Audi  23000.0  crossover      240      4.2      Petrol   \n",
              "4         Toyota  18300.0  crossover      120      2.0      Petrol   \n",
              "\n",
              "  Registration  Year         Model  \n",
              "0          yes  1991           320  \n",
              "1          yes  1999  Sprinter 212  \n",
              "2          yes  2003         S 500  \n",
              "3          yes  2007            Q7  \n",
              "4          yes  2011         Rav 4  "
            ],
            "text/html": [
              "\n",
              "  <div id=\"df-fabed402-8b00-4f26-bb01-e38ff6b8e51b\">\n",
              "    <div class=\"colab-df-container\">\n",
              "      <div>\n",
              "<style scoped>\n",
              "    .dataframe tbody tr th:only-of-type {\n",
              "        vertical-align: middle;\n",
              "    }\n",
              "\n",
              "    .dataframe tbody tr th {\n",
              "        vertical-align: top;\n",
              "    }\n",
              "\n",
              "    .dataframe thead th {\n",
              "        text-align: right;\n",
              "    }\n",
              "</style>\n",
              "<table border=\"1\" class=\"dataframe\">\n",
              "  <thead>\n",
              "    <tr style=\"text-align: right;\">\n",
              "      <th></th>\n",
              "      <th>Brand</th>\n",
              "      <th>Price</th>\n",
              "      <th>Body</th>\n",
              "      <th>Mileage</th>\n",
              "      <th>EngineV</th>\n",
              "      <th>Engine Type</th>\n",
              "      <th>Registration</th>\n",
              "      <th>Year</th>\n",
              "      <th>Model</th>\n",
              "    </tr>\n",
              "  </thead>\n",
              "  <tbody>\n",
              "    <tr>\n",
              "      <th>0</th>\n",
              "      <td>BMW</td>\n",
              "      <td>4200.0</td>\n",
              "      <td>sedan</td>\n",
              "      <td>277</td>\n",
              "      <td>2.0</td>\n",
              "      <td>Petrol</td>\n",
              "      <td>yes</td>\n",
              "      <td>1991</td>\n",
              "      <td>320</td>\n",
              "    </tr>\n",
              "    <tr>\n",
              "      <th>1</th>\n",
              "      <td>Mercedes-Benz</td>\n",
              "      <td>7900.0</td>\n",
              "      <td>van</td>\n",
              "      <td>427</td>\n",
              "      <td>2.9</td>\n",
              "      <td>Diesel</td>\n",
              "      <td>yes</td>\n",
              "      <td>1999</td>\n",
              "      <td>Sprinter 212</td>\n",
              "    </tr>\n",
              "    <tr>\n",
              "      <th>2</th>\n",
              "      <td>Mercedes-Benz</td>\n",
              "      <td>13300.0</td>\n",
              "      <td>sedan</td>\n",
              "      <td>358</td>\n",
              "      <td>5.0</td>\n",
              "      <td>Gas</td>\n",
              "      <td>yes</td>\n",
              "      <td>2003</td>\n",
              "      <td>S 500</td>\n",
              "    </tr>\n",
              "    <tr>\n",
              "      <th>3</th>\n",
              "      <td>Audi</td>\n",
              "      <td>23000.0</td>\n",
              "      <td>crossover</td>\n",
              "      <td>240</td>\n",
              "      <td>4.2</td>\n",
              "      <td>Petrol</td>\n",
              "      <td>yes</td>\n",
              "      <td>2007</td>\n",
              "      <td>Q7</td>\n",
              "    </tr>\n",
              "    <tr>\n",
              "      <th>4</th>\n",
              "      <td>Toyota</td>\n",
              "      <td>18300.0</td>\n",
              "      <td>crossover</td>\n",
              "      <td>120</td>\n",
              "      <td>2.0</td>\n",
              "      <td>Petrol</td>\n",
              "      <td>yes</td>\n",
              "      <td>2011</td>\n",
              "      <td>Rav 4</td>\n",
              "    </tr>\n",
              "  </tbody>\n",
              "</table>\n",
              "</div>\n",
              "      <button class=\"colab-df-convert\" onclick=\"convertToInteractive('df-fabed402-8b00-4f26-bb01-e38ff6b8e51b')\"\n",
              "              title=\"Convert this dataframe to an interactive table.\"\n",
              "              style=\"display:none;\">\n",
              "        \n",
              "  <svg xmlns=\"http://www.w3.org/2000/svg\" height=\"24px\"viewBox=\"0 0 24 24\"\n",
              "       width=\"24px\">\n",
              "    <path d=\"M0 0h24v24H0V0z\" fill=\"none\"/>\n",
              "    <path d=\"M18.56 5.44l.94 2.06.94-2.06 2.06-.94-2.06-.94-.94-2.06-.94 2.06-2.06.94zm-11 1L8.5 8.5l.94-2.06 2.06-.94-2.06-.94L8.5 2.5l-.94 2.06-2.06.94zm10 10l.94 2.06.94-2.06 2.06-.94-2.06-.94-.94-2.06-.94 2.06-2.06.94z\"/><path d=\"M17.41 7.96l-1.37-1.37c-.4-.4-.92-.59-1.43-.59-.52 0-1.04.2-1.43.59L10.3 9.45l-7.72 7.72c-.78.78-.78 2.05 0 2.83L4 21.41c.39.39.9.59 1.41.59.51 0 1.02-.2 1.41-.59l7.78-7.78 2.81-2.81c.8-.78.8-2.07 0-2.86zM5.41 20L4 18.59l7.72-7.72 1.47 1.35L5.41 20z\"/>\n",
              "  </svg>\n",
              "      </button>\n",
              "      \n",
              "  <style>\n",
              "    .colab-df-container {\n",
              "      display:flex;\n",
              "      flex-wrap:wrap;\n",
              "      gap: 12px;\n",
              "    }\n",
              "\n",
              "    .colab-df-convert {\n",
              "      background-color: #E8F0FE;\n",
              "      border: none;\n",
              "      border-radius: 50%;\n",
              "      cursor: pointer;\n",
              "      display: none;\n",
              "      fill: #1967D2;\n",
              "      height: 32px;\n",
              "      padding: 0 0 0 0;\n",
              "      width: 32px;\n",
              "    }\n",
              "\n",
              "    .colab-df-convert:hover {\n",
              "      background-color: #E2EBFA;\n",
              "      box-shadow: 0px 1px 2px rgba(60, 64, 67, 0.3), 0px 1px 3px 1px rgba(60, 64, 67, 0.15);\n",
              "      fill: #174EA6;\n",
              "    }\n",
              "\n",
              "    [theme=dark] .colab-df-convert {\n",
              "      background-color: #3B4455;\n",
              "      fill: #D2E3FC;\n",
              "    }\n",
              "\n",
              "    [theme=dark] .colab-df-convert:hover {\n",
              "      background-color: #434B5C;\n",
              "      box-shadow: 0px 1px 3px 1px rgba(0, 0, 0, 0.15);\n",
              "      filter: drop-shadow(0px 1px 2px rgba(0, 0, 0, 0.3));\n",
              "      fill: #FFFFFF;\n",
              "    }\n",
              "  </style>\n",
              "\n",
              "      <script>\n",
              "        const buttonEl =\n",
              "          document.querySelector('#df-fabed402-8b00-4f26-bb01-e38ff6b8e51b button.colab-df-convert');\n",
              "        buttonEl.style.display =\n",
              "          google.colab.kernel.accessAllowed ? 'block' : 'none';\n",
              "\n",
              "        async function convertToInteractive(key) {\n",
              "          const element = document.querySelector('#df-fabed402-8b00-4f26-bb01-e38ff6b8e51b');\n",
              "          const dataTable =\n",
              "            await google.colab.kernel.invokeFunction('convertToInteractive',\n",
              "                                                     [key], {});\n",
              "          if (!dataTable) return;\n",
              "\n",
              "          const docLinkHtml = 'Like what you see? Visit the ' +\n",
              "            '<a target=\"_blank\" href=https://colab.research.google.com/notebooks/data_table.ipynb>data table notebook</a>'\n",
              "            + ' to learn more about interactive tables.';\n",
              "          element.innerHTML = '';\n",
              "          dataTable['output_type'] = 'display_data';\n",
              "          await google.colab.output.renderOutput(dataTable, element);\n",
              "          const docLink = document.createElement('div');\n",
              "          docLink.innerHTML = docLinkHtml;\n",
              "          element.appendChild(docLink);\n",
              "        }\n",
              "      </script>\n",
              "    </div>\n",
              "  </div>\n",
              "  "
            ]
          },
          "metadata": {},
          "execution_count": 31
        }
      ],
      "source": [
        "df_no_mv.head()"
      ],
      "id": "0e060cef-fd0a-470d-8416-a68e0148fe93"
    },
    {
      "cell_type": "markdown",
      "metadata": {
        "id": "5c0218dc-ffc3-45d1-bcf3-140c797fdefc"
      },
      "source": [
        "## Feature dan Label"
      ],
      "id": "5c0218dc-ffc3-45d1-bcf3-140c797fdefc"
    },
    {
      "cell_type": "code",
      "execution_count": null,
      "metadata": {
        "id": "f9ab673d-49b0-4980-9056-efe1b8ec63e1"
      },
      "outputs": [],
      "source": [
        "X = df_no_mv.drop(['Price'], axis=1) #price klabel jadi di drop\n",
        "y = df_no_mv['Price']"
      ],
      "id": "f9ab673d-49b0-4980-9056-efe1b8ec63e1"
    },
    {
      "cell_type": "markdown",
      "metadata": {
        "id": "4b4b3d87-3408-481c-ad22-97316e66af70"
      },
      "source": [
        "## Label Encoding"
      ],
      "id": "4b4b3d87-3408-481c-ad22-97316e66af70"
    },
    {
      "cell_type": "markdown",
      "metadata": {
        "id": "DszorkOI_Ivh"
      },
      "source": [
        "untuk melatih model regresi, data yang di latih harus bertipe numerik. Maka dari itu data yang bertipe data object harus ditransformasikan terlebih dahulu.\n",
        "\n"
      ],
      "id": "DszorkOI_Ivh"
    },
    {
      "cell_type": "code",
      "execution_count": null,
      "metadata": {
        "id": "zZfeo5CXImju",
        "colab": {
          "base_uri": "https://localhost:8080/"
        },
        "outputId": "058ce6b2-7ed7-46fc-8f80-78b1920ee249"
      },
      "outputs": [
        {
          "output_type": "execute_result",
          "data": {
            "text/plain": [
              "Brand            object\n",
              "Body             object\n",
              "Mileage           int64\n",
              "EngineV         float64\n",
              "Engine Type      object\n",
              "Registration     object\n",
              "Year              int64\n",
              "Model            object\n",
              "dtype: object"
            ]
          },
          "metadata": {},
          "execution_count": 33
        }
      ],
      "source": [
        "X.dtypes"
      ],
      "id": "zZfeo5CXImju"
    },
    {
      "cell_type": "code",
      "execution_count": null,
      "metadata": {
        "id": "baAesv0zJ2Cx",
        "colab": {
          "base_uri": "https://localhost:8080/"
        },
        "outputId": "2daf251f-fa9c-446b-8604-8d512199326c"
      },
      "outputs": [
        {
          "output_type": "execute_result",
          "data": {
            "text/plain": [
              "['Brand', 'Body', 'Engine Type', 'Registration', 'Model']"
            ]
          },
          "metadata": {},
          "execution_count": 34
        }
      ],
      "source": [
        "cat_columns = X.columns[(X.dtypes =='object').values].tolist()\n",
        "cat_columns"
      ],
      "id": "baAesv0zJ2Cx"
    },
    {
      "cell_type": "code",
      "execution_count": null,
      "metadata": {
        "id": "NWPjA_vAJ781",
        "colab": {
          "base_uri": "https://localhost:8080/"
        },
        "outputId": "562a0f10-343d-454a-fce1-b975d1fc5974"
      },
      "outputs": [
        {
          "output_type": "execute_result",
          "data": {
            "text/plain": [
              "   Brand  Body  Mileage  EngineV  Engine Type  Registration  Year  Model\n",
              "0      1     3      277      2.0            3             1  1991     18\n",
              "1      2     5      427      2.9            0             1  1999    264\n",
              "2      2     3      358      5.0            1             1  2003    236\n",
              "3      0     0      240      4.2            3             1  2007    223\n",
              "4      5     0      120      2.0            3             1  2011    226"
            ],
            "text/html": [
              "\n",
              "  <div id=\"df-832922fa-ee07-4c24-9606-6758277a2a75\">\n",
              "    <div class=\"colab-df-container\">\n",
              "      <div>\n",
              "<style scoped>\n",
              "    .dataframe tbody tr th:only-of-type {\n",
              "        vertical-align: middle;\n",
              "    }\n",
              "\n",
              "    .dataframe tbody tr th {\n",
              "        vertical-align: top;\n",
              "    }\n",
              "\n",
              "    .dataframe thead th {\n",
              "        text-align: right;\n",
              "    }\n",
              "</style>\n",
              "<table border=\"1\" class=\"dataframe\">\n",
              "  <thead>\n",
              "    <tr style=\"text-align: right;\">\n",
              "      <th></th>\n",
              "      <th>Brand</th>\n",
              "      <th>Body</th>\n",
              "      <th>Mileage</th>\n",
              "      <th>EngineV</th>\n",
              "      <th>Engine Type</th>\n",
              "      <th>Registration</th>\n",
              "      <th>Year</th>\n",
              "      <th>Model</th>\n",
              "    </tr>\n",
              "  </thead>\n",
              "  <tbody>\n",
              "    <tr>\n",
              "      <th>0</th>\n",
              "      <td>1</td>\n",
              "      <td>3</td>\n",
              "      <td>277</td>\n",
              "      <td>2.0</td>\n",
              "      <td>3</td>\n",
              "      <td>1</td>\n",
              "      <td>1991</td>\n",
              "      <td>18</td>\n",
              "    </tr>\n",
              "    <tr>\n",
              "      <th>1</th>\n",
              "      <td>2</td>\n",
              "      <td>5</td>\n",
              "      <td>427</td>\n",
              "      <td>2.9</td>\n",
              "      <td>0</td>\n",
              "      <td>1</td>\n",
              "      <td>1999</td>\n",
              "      <td>264</td>\n",
              "    </tr>\n",
              "    <tr>\n",
              "      <th>2</th>\n",
              "      <td>2</td>\n",
              "      <td>3</td>\n",
              "      <td>358</td>\n",
              "      <td>5.0</td>\n",
              "      <td>1</td>\n",
              "      <td>1</td>\n",
              "      <td>2003</td>\n",
              "      <td>236</td>\n",
              "    </tr>\n",
              "    <tr>\n",
              "      <th>3</th>\n",
              "      <td>0</td>\n",
              "      <td>0</td>\n",
              "      <td>240</td>\n",
              "      <td>4.2</td>\n",
              "      <td>3</td>\n",
              "      <td>1</td>\n",
              "      <td>2007</td>\n",
              "      <td>223</td>\n",
              "    </tr>\n",
              "    <tr>\n",
              "      <th>4</th>\n",
              "      <td>5</td>\n",
              "      <td>0</td>\n",
              "      <td>120</td>\n",
              "      <td>2.0</td>\n",
              "      <td>3</td>\n",
              "      <td>1</td>\n",
              "      <td>2011</td>\n",
              "      <td>226</td>\n",
              "    </tr>\n",
              "  </tbody>\n",
              "</table>\n",
              "</div>\n",
              "      <button class=\"colab-df-convert\" onclick=\"convertToInteractive('df-832922fa-ee07-4c24-9606-6758277a2a75')\"\n",
              "              title=\"Convert this dataframe to an interactive table.\"\n",
              "              style=\"display:none;\">\n",
              "        \n",
              "  <svg xmlns=\"http://www.w3.org/2000/svg\" height=\"24px\"viewBox=\"0 0 24 24\"\n",
              "       width=\"24px\">\n",
              "    <path d=\"M0 0h24v24H0V0z\" fill=\"none\"/>\n",
              "    <path d=\"M18.56 5.44l.94 2.06.94-2.06 2.06-.94-2.06-.94-.94-2.06-.94 2.06-2.06.94zm-11 1L8.5 8.5l.94-2.06 2.06-.94-2.06-.94L8.5 2.5l-.94 2.06-2.06.94zm10 10l.94 2.06.94-2.06 2.06-.94-2.06-.94-.94-2.06-.94 2.06-2.06.94z\"/><path d=\"M17.41 7.96l-1.37-1.37c-.4-.4-.92-.59-1.43-.59-.52 0-1.04.2-1.43.59L10.3 9.45l-7.72 7.72c-.78.78-.78 2.05 0 2.83L4 21.41c.39.39.9.59 1.41.59.51 0 1.02-.2 1.41-.59l7.78-7.78 2.81-2.81c.8-.78.8-2.07 0-2.86zM5.41 20L4 18.59l7.72-7.72 1.47 1.35L5.41 20z\"/>\n",
              "  </svg>\n",
              "      </button>\n",
              "      \n",
              "  <style>\n",
              "    .colab-df-container {\n",
              "      display:flex;\n",
              "      flex-wrap:wrap;\n",
              "      gap: 12px;\n",
              "    }\n",
              "\n",
              "    .colab-df-convert {\n",
              "      background-color: #E8F0FE;\n",
              "      border: none;\n",
              "      border-radius: 50%;\n",
              "      cursor: pointer;\n",
              "      display: none;\n",
              "      fill: #1967D2;\n",
              "      height: 32px;\n",
              "      padding: 0 0 0 0;\n",
              "      width: 32px;\n",
              "    }\n",
              "\n",
              "    .colab-df-convert:hover {\n",
              "      background-color: #E2EBFA;\n",
              "      box-shadow: 0px 1px 2px rgba(60, 64, 67, 0.3), 0px 1px 3px 1px rgba(60, 64, 67, 0.15);\n",
              "      fill: #174EA6;\n",
              "    }\n",
              "\n",
              "    [theme=dark] .colab-df-convert {\n",
              "      background-color: #3B4455;\n",
              "      fill: #D2E3FC;\n",
              "    }\n",
              "\n",
              "    [theme=dark] .colab-df-convert:hover {\n",
              "      background-color: #434B5C;\n",
              "      box-shadow: 0px 1px 3px 1px rgba(0, 0, 0, 0.15);\n",
              "      filter: drop-shadow(0px 1px 2px rgba(0, 0, 0, 0.3));\n",
              "      fill: #FFFFFF;\n",
              "    }\n",
              "  </style>\n",
              "\n",
              "      <script>\n",
              "        const buttonEl =\n",
              "          document.querySelector('#df-832922fa-ee07-4c24-9606-6758277a2a75 button.colab-df-convert');\n",
              "        buttonEl.style.display =\n",
              "          google.colab.kernel.accessAllowed ? 'block' : 'none';\n",
              "\n",
              "        async function convertToInteractive(key) {\n",
              "          const element = document.querySelector('#df-832922fa-ee07-4c24-9606-6758277a2a75');\n",
              "          const dataTable =\n",
              "            await google.colab.kernel.invokeFunction('convertToInteractive',\n",
              "                                                     [key], {});\n",
              "          if (!dataTable) return;\n",
              "\n",
              "          const docLinkHtml = 'Like what you see? Visit the ' +\n",
              "            '<a target=\"_blank\" href=https://colab.research.google.com/notebooks/data_table.ipynb>data table notebook</a>'\n",
              "            + ' to learn more about interactive tables.';\n",
              "          element.innerHTML = '';\n",
              "          dataTable['output_type'] = 'display_data';\n",
              "          await google.colab.output.renderOutput(dataTable, element);\n",
              "          const docLink = document.createElement('div');\n",
              "          docLink.innerHTML = docLinkHtml;\n",
              "          element.appendChild(docLink);\n",
              "        }\n",
              "      </script>\n",
              "    </div>\n",
              "  </div>\n",
              "  "
            ]
          },
          "metadata": {},
          "execution_count": 35
        }
      ],
      "source": [
        "from sklearn.preprocessing import LabelEncoder\n",
        "\n",
        "for col in cat_columns:\n",
        "        X[col] = LabelEncoder().fit_transform(X[col])\n",
        "X.head()  "
      ],
      "id": "NWPjA_vAJ781"
    },
    {
      "cell_type": "markdown",
      "metadata": {
        "id": "01cee359-c83a-4c49-99c2-a433d9635454"
      },
      "source": [
        "# Melatih Model"
      ],
      "id": "01cee359-c83a-4c49-99c2-a433d9635454"
    },
    {
      "cell_type": "markdown",
      "metadata": {
        "id": "V4aokuAEldcj"
      },
      "source": [
        "## Train Test Split"
      ],
      "id": "V4aokuAEldcj"
    },
    {
      "cell_type": "code",
      "execution_count": null,
      "metadata": {
        "id": "28940d5d-d810-4d21-8627-52971242074a"
      },
      "outputs": [],
      "source": [
        "from sklearn.model_selection import train_test_split\n",
        "X_train, X_test, y_train, y_test = train_test_split(X, y, test_size=0.2, random_state=8)"
      ],
      "id": "28940d5d-d810-4d21-8627-52971242074a"
    },
    {
      "cell_type": "markdown",
      "metadata": {
        "id": "933b891f-858b-4746-bdf4-d54697a7693d"
      },
      "source": [
        "## Decision Tree"
      ],
      "id": "933b891f-858b-4746-bdf4-d54697a7693d"
    },
    {
      "cell_type": "markdown",
      "metadata": {
        "id": "c75ppmst_kef"
      },
      "source": [
        "semakin tinggi hasil prediksi makin akurat model yang di latih "
      ],
      "id": "c75ppmst_kef"
    },
    {
      "cell_type": "code",
      "execution_count": null,
      "metadata": {
        "id": "a23128ff-f63f-4fe5-833e-115f3c5e3cb0",
        "colab": {
          "base_uri": "https://localhost:8080/"
        },
        "outputId": "aee32ac0-e75b-403b-c190-594daf5b6bda"
      },
      "outputs": [
        {
          "output_type": "execute_result",
          "data": {
            "text/plain": [
              "0.836016952828845"
            ]
          },
          "metadata": {},
          "execution_count": 40
        }
      ],
      "source": [
        "from sklearn.tree import DecisionTreeRegressor\n",
        "dtree = DecisionTreeRegressor(random_state=8)\n",
        "dtree.fit(X_train, y_train)\n",
        "dtree.score(X_test, y_test)"
      ],
      "id": "a23128ff-f63f-4fe5-833e-115f3c5e3cb0"
    },
    {
      "cell_type": "markdown",
      "metadata": {
        "id": "623497ae-f283-4afe-bf53-72e98a54b69d"
      },
      "source": [
        "## Random Forest Regression"
      ],
      "id": "623497ae-f283-4afe-bf53-72e98a54b69d"
    },
    {
      "cell_type": "code",
      "execution_count": null,
      "metadata": {
        "id": "f0610c4f-b236-4ba5-afdc-8a6a18ed1380",
        "colab": {
          "base_uri": "https://localhost:8080/"
        },
        "outputId": "33a7041a-5e49-4261-c5a1-992da8e70012"
      },
      "outputs": [
        {
          "output_type": "execute_result",
          "data": {
            "text/plain": [
              "0.9072065936681305"
            ]
          },
          "metadata": {},
          "execution_count": 38
        }
      ],
      "source": [
        "from sklearn.ensemble import RandomForestRegressor\n",
        "\n",
        "rfreg = RandomForestRegressor()\n",
        "rfreg.fit(X_train, y_train)\n",
        "rfreg.score(X_test, y_test)"
      ],
      "id": "f0610c4f-b236-4ba5-afdc-8a6a18ed1380"
    }
  ],
  "metadata": {
    "colab": {
      "provenance": [],
      "include_colab_link": true
    },
    "kernelspec": {
      "display_name": "Python 3 (ipykernel)",
      "language": "python",
      "name": "python3"
    },
    "language_info": {
      "codemirror_mode": {
        "name": "ipython",
        "version": 3
      },
      "file_extension": ".py",
      "mimetype": "text/x-python",
      "name": "python",
      "nbconvert_exporter": "python",
      "pygments_lexer": "ipython3",
      "version": "3.9.12"
    }
  },
  "nbformat": 4,
  "nbformat_minor": 5
}